{
 "cells": [
  {
   "cell_type": "markdown",
   "id": "5e987a4d",
   "metadata": {},
   "source": [
    "## This uses transfer learning on a pre-trained classifier to build an Alpaca Classifier"
   ]
  },
  {
   "cell_type": "markdown",
   "id": "235488ba",
   "metadata": {},
   "source": [
    " It uses MobileNetV2 which has been pre-trained on ImageNet, a dataset containing over 14 million images and 1000 classes."
   ]
  },
  {
   "cell_type": "markdown",
   "id": "1431bc16",
   "metadata": {},
   "source": [
    "## 1. Packages"
   ]
  },
  {
   "cell_type": "code",
   "execution_count": 1,
   "id": "210701a1",
   "metadata": {},
   "outputs": [],
   "source": [
    "import matplotlib.pyplot as plt\n",
    "import numpy as np\n",
    "import os\n",
    "import tensorflow as tf\n",
    "import tensorflow.keras.layers as tfl\n",
    "\n",
    "from tensorflow.keras.preprocessing import image_dataset_from_directory\n",
    "from tensorflow.keras.layers.experimental.preprocessing import RandomFlip, RandomRotation"
   ]
  },
  {
   "cell_type": "code",
   "execution_count": 2,
   "id": "ebf327c7",
   "metadata": {},
   "outputs": [
    {
     "name": "stdout",
     "output_type": "stream",
     "text": [
      "Found 327 files belonging to 2 classes.\n",
      "Using 262 files for training.\n",
      "Found 327 files belonging to 2 classes.\n",
      "Using 65 files for validation.\n"
     ]
    }
   ],
   "source": [
    "#Generate dataset from images in the dataset folder\n",
    "\n",
    "BATCH_SIZE = 32\n",
    "IMG_SIZE = (160, 160)\n",
    "directory = \"dataset/\"\n",
    "# Create training and validation set. Use the same seed to avoid image overlap\n",
    "train_dataset = image_dataset_from_directory(directory,\n",
    "                                             shuffle=True,\n",
    "                                             batch_size=BATCH_SIZE,\n",
    "                                             image_size=IMG_SIZE,\n",
    "                                             validation_split=0.2,\n",
    "                                             subset='training',\n",
    "                                             seed=42)\n",
    "validation_dataset = image_dataset_from_directory(directory,\n",
    "                                             shuffle=True,\n",
    "                                             batch_size=BATCH_SIZE,\n",
    "                                             image_size=IMG_SIZE,\n",
    "                                             validation_split=0.2,\n",
    "                                             subset='validation',\n",
    "                                             seed=42)"
   ]
  },
  {
   "cell_type": "code",
   "execution_count": 3,
   "id": "63444faa",
   "metadata": {},
   "outputs": [
    {
     "data": {
      "text/plain": [
       "['alpaca', 'not alpaca']"
      ]
     },
     "execution_count": 3,
     "metadata": {},
     "output_type": "execute_result"
    }
   ],
   "source": [
    "#view class names\n",
    "class_names = train_dataset.class_names\n",
    "class_names"
   ]
  },
  {
   "cell_type": "code",
   "execution_count": null,
   "id": "7cd9532a",
   "metadata": {},
   "outputs": [],
   "source": []
  }
 ],
 "metadata": {
  "kernelspec": {
   "display_name": "Python 3 (ipykernel)",
   "language": "python",
   "name": "python3"
  },
  "language_info": {
   "codemirror_mode": {
    "name": "ipython",
    "version": 3
   },
   "file_extension": ".py",
   "mimetype": "text/x-python",
   "name": "python",
   "nbconvert_exporter": "python",
   "pygments_lexer": "ipython3",
   "version": "3.8.12"
  }
 },
 "nbformat": 4,
 "nbformat_minor": 5
}
